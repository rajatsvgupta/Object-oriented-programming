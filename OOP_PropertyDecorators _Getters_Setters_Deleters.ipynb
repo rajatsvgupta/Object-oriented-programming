{
 "cells": [
  {
   "cell_type": "code",
   "execution_count": 1,
   "metadata": {},
   "outputs": [],
   "source": [
    "\n",
    "class Employee:\n",
    "    raise_amount=1.04\n",
    "    num_emp=0\n",
    "    def __init__(self,first,last,pay):\n",
    "        self.first=first\n",
    "        self.last=last\n",
    "        self.pay=pay\n",
    "        Employee.num_emp+=1\n",
    "        self.email=first+last+\"@email.com\"\n",
    "    def fullname(self):\n",
    "        return(f\"{self.first} {self.last}\")\n",
    "    def apply_raise(self):\n",
    "        self.pay=int(self.pay)*self.raise_amount\n",
    "    @classmethod\n",
    "    def set_raise_amount(cls,amount):\n",
    "        cls.raise_amount=amount\n",
    "    @classmethod\n",
    "    def from_string(cls,st):\n",
    "        first,last,pay=emp_str_1.split(\"-\")\n",
    "        return cls(first,last,pay)\n",
    "    @staticmethod\n",
    "    def is_workday(day):\n",
    "        if(day.weekday()==5 or day.weekday()==6):\n",
    "            return False\n",
    "        return True\n",
    "    def __repr__(self):\n",
    "        return(f\"Employee({self.first},{self.last},{self.pay})\")\n",
    "    def __str__(self):\n",
    "        return f\"{self.first}-{self.last} with salary {self.pay} and email {self.email}\"\n",
    "    def __add__(self,other):\n",
    "        return self.pay+other.pay\n",
    "    def __len__(self):\n",
    "        return len(self.fullname())\n",
    "\n",
    "class Developer(Employee):\n",
    "    raise_amount=1.10\n",
    "    def __init__(self,first,last,pay,prog_lang):\n",
    "        Employee.__init__(self,first,last,pay)\n",
    "        self.prog_lang=prog_lang\n",
    "        \n",
    "class Manager(Employee):\n",
    "    def __init__(self,first,last,pay,employees=None):\n",
    "        super().__init__(first,last,pay)\n",
    "        if employees is None:\n",
    "            self.employees=[]\n",
    "        else:\n",
    "            self.employees=employees\n",
    "    def add_emp(self,emp):\n",
    "        if emp not in self.employees:\n",
    "                self.employees.append(emp)\n",
    "    def remove_emp(self,emp):\n",
    "        if emp in self.employees:\n",
    "            self.employees.remove(emp)\n",
    "    def show_emp(self):\n",
    "        for emp in self.employees:\n",
    "            print(f\"------>{emp.fullname()}\")\n",
    "                \n",
    "            \n",
    "        \n",
    "        \n",
    "    "
   ]
  },
  {
   "cell_type": "code",
   "execution_count": 2,
   "metadata": {},
   "outputs": [],
   "source": [
    "emp_1=Employee(\"John\",\"smith\",100000)"
   ]
  },
  {
   "cell_type": "code",
   "execution_count": 3,
   "metadata": {},
   "outputs": [],
   "source": [
    "emp_1.first=\"Josheph\""
   ]
  },
  {
   "cell_type": "code",
   "execution_count": 4,
   "metadata": {},
   "outputs": [
    {
     "data": {
      "text/plain": [
       "'Josheph smith'"
      ]
     },
     "execution_count": 4,
     "metadata": {},
     "output_type": "execute_result"
    }
   ],
   "source": [
    "emp_1.fullname()"
   ]
  },
  {
   "cell_type": "code",
   "execution_count": 5,
   "metadata": {},
   "outputs": [
    {
     "data": {
      "text/plain": [
       "'Johnsmith@email.com'"
      ]
     },
     "execution_count": 5,
     "metadata": {},
     "output_type": "execute_result"
    }
   ],
   "source": [
    "emp_1.email"
   ]
  },
  {
   "cell_type": "code",
   "execution_count": 6,
   "metadata": {},
   "outputs": [],
   "source": [
    "\n",
    "class Employee:\n",
    "    raise_amount=1.04\n",
    "    num_emp=0\n",
    "    def __init__(self,first,last,pay):\n",
    "        self.first=first\n",
    "        self.last=last\n",
    "        self.pay=pay\n",
    "        Employee.num_emp+=1\n",
    "        self.email=first+last+\"@email.com\"\n",
    "    def fullname(self):\n",
    "        return(f\"{self.first} {self.last}\")\n",
    "    def apply_raise(self):\n",
    "        self.pay=int(self.pay)*self.raise_amount\n",
    "    @classmethod\n",
    "    def set_raise_amount(cls,amount):\n",
    "        cls.raise_amount=amount\n",
    "    @classmethod\n",
    "    def from_string(cls,st):\n",
    "        first,last,pay=emp_str_1.split(\"-\")\n",
    "        return cls(first,last,pay)\n",
    "    @staticmethod\n",
    "    def is_workday(day):\n",
    "        if(day.weekday()==5 or day.weekday()==6):\n",
    "            return False\n",
    "        return True\n",
    "    def __repr__(self):\n",
    "        return(f\"Employee({self.first},{self.last},{self.pay})\")\n",
    "    def __str__(self):\n",
    "        return f\"{self.first}-{self.last} with salary {self.pay} and email {self.email}\"\n",
    "    def __add__(self,other):\n",
    "        return self.pay+other.pay\n",
    "    def __len__(self):\n",
    "        return len(self.fullname())\n",
    "    def emp_email(self):\n",
    "        return f\"{self.first}{self.last}@email.com\"\n",
    "        \n",
    "\n",
    "class Developer(Employee):\n",
    "    raise_amount=1.10\n",
    "    def __init__(self,first,last,pay,prog_lang):\n",
    "        Employee.__init__(self,first,last,pay)\n",
    "        self.prog_lang=prog_lang\n",
    "    \n",
    "        \n",
    "class Manager(Employee):\n",
    "    def __init__(self,first,last,pay,employees=None):\n",
    "        super().__init__(first,last,pay)\n",
    "        if employees is None:\n",
    "            self.employees=[]\n",
    "        else:\n",
    "            self.employees=employees\n",
    "    def add_emp(self,emp):\n",
    "        if emp not in self.employees:\n",
    "                self.employees.append(emp)\n",
    "    def remove_emp(self,emp):\n",
    "        if emp in self.employees:\n",
    "            self.employees.remove(emp)\n",
    "    def show_emp(self):\n",
    "        for emp in self.employees:\n",
    "            print(f\"------>{emp.fullname()}\")\n",
    "                \n",
    "            \n",
    "        \n",
    "        \n",
    "    "
   ]
  },
  {
   "cell_type": "code",
   "execution_count": 7,
   "metadata": {},
   "outputs": [],
   "source": [
    "emp_1=Employee(\"John\",\"smith\",100000)"
   ]
  },
  {
   "cell_type": "code",
   "execution_count": 8,
   "metadata": {},
   "outputs": [
    {
     "data": {
      "text/plain": [
       "'Johnsmith@email.com'"
      ]
     },
     "execution_count": 8,
     "metadata": {},
     "output_type": "execute_result"
    }
   ],
   "source": [
    "emp_1.emp_email()"
   ]
  },
  {
   "cell_type": "code",
   "execution_count": 9,
   "metadata": {},
   "outputs": [],
   "source": [
    "\n",
    "class Employee:\n",
    "    raise_amount=1.04\n",
    "    num_emp=0\n",
    "    def __init__(self,first,last,pay):\n",
    "        self.first=first\n",
    "        self.last=last\n",
    "        self.pay=pay\n",
    "        Employee.num_emp+=1\n",
    "        \n",
    "    def fullname(self):\n",
    "        return(f\"{self.first} {self.last}\")\n",
    "    def apply_raise(self):\n",
    "        self.pay=int(self.pay)*self.raise_amount\n",
    "    @classmethod\n",
    "    def set_raise_amount(cls,amount):\n",
    "        cls.raise_amount=amount\n",
    "    @classmethod\n",
    "    def from_string(cls,st):\n",
    "        first,last,pay=emp_str_1.split(\"-\")\n",
    "        return cls(first,last,pay)\n",
    "    @staticmethod\n",
    "    def is_workday(day):\n",
    "        if(day.weekday()==5 or day.weekday()==6):\n",
    "            return False\n",
    "        return True\n",
    "    def __repr__(self):\n",
    "        return(f\"Employee({self.first},{self.last},{self.pay})\")\n",
    "    def __str__(self):\n",
    "        return f\"{self.first}-{self.last} with salary {self.pay} and email {self.email}\"\n",
    "    def __add__(self,other):\n",
    "        return self.pay+other.pay\n",
    "    def __len__(self):\n",
    "        return len(self.fullname())\n",
    "    @property\n",
    "    def email(self):\n",
    "        return f\"{self.first}{self.last}@email.com\"\n",
    "        \n",
    "\n",
    "class Developer(Employee):\n",
    "    raise_amount=1.10\n",
    "    def __init__(self,first,last,pay,prog_lang):\n",
    "        Employee.__init__(self,first,last,pay)\n",
    "        self.prog_lang=prog_lang\n",
    "    \n",
    "        \n",
    "class Manager(Employee):\n",
    "    def __init__(self,first,last,pay,employees=None):\n",
    "        super().__init__(first,last,pay)\n",
    "        if employees is None:\n",
    "            self.employees=[]\n",
    "        else:\n",
    "            self.employees=employees\n",
    "    def add_emp(self,emp):\n",
    "        if emp not in self.employees:\n",
    "                self.employees.append(emp)\n",
    "    def remove_emp(self,emp):\n",
    "        if emp in self.employees:\n",
    "            self.employees.remove(emp)\n",
    "    def show_emp(self):\n",
    "        for emp in self.employees:\n",
    "            print(f\"------>{emp.fullname()}\")\n",
    "                \n",
    "            \n",
    "        \n",
    "        \n",
    "    "
   ]
  },
  {
   "cell_type": "code",
   "execution_count": 10,
   "metadata": {},
   "outputs": [],
   "source": [
    "emp_1=Employee(\"John\",\"smith\",100000)"
   ]
  },
  {
   "cell_type": "code",
   "execution_count": 11,
   "metadata": {},
   "outputs": [
    {
     "data": {
      "text/plain": [
       "'Johnsmith@email.com'"
      ]
     },
     "execution_count": 11,
     "metadata": {},
     "output_type": "execute_result"
    }
   ],
   "source": [
    "emp_1.email"
   ]
  },
  {
   "cell_type": "code",
   "execution_count": 12,
   "metadata": {},
   "outputs": [],
   "source": [
    "\n",
    "class Employee:\n",
    "    raise_amount=1.04\n",
    "    num_emp=0\n",
    "    def __init__(self,first,last,pay):\n",
    "        self.first=first\n",
    "        self.last=last\n",
    "        self.pay=pay\n",
    "        Employee.num_emp+=1\n",
    "    @property    \n",
    "    def fullname(self):\n",
    "        return(f\"{self.first} {self.last}\")\n",
    "    def apply_raise(self):\n",
    "        self.pay=int(self.pay)*self.raise_amount\n",
    "    @classmethod\n",
    "    def set_raise_amount(cls,amount):\n",
    "        cls.raise_amount=amount\n",
    "    @classmethod\n",
    "    def from_string(cls,st):\n",
    "        first,last,pay=emp_str_1.split(\"-\")\n",
    "        return cls(first,last,pay)\n",
    "    @staticmethod\n",
    "    def is_workday(day):\n",
    "        if(day.weekday()==5 or day.weekday()==6):\n",
    "            return False\n",
    "        return True\n",
    "    def __repr__(self):\n",
    "        return(f\"Employee({self.first},{self.last},{self.pay})\")\n",
    "    def __str__(self):\n",
    "        return f\"{self.first}-{self.last} with salary {self.pay} and email {self.email}\"\n",
    "    def __add__(self,other):\n",
    "        return self.pay+other.pay\n",
    "    def __len__(self):\n",
    "        return len(self.fullname())\n",
    "    @property\n",
    "    def email(self):\n",
    "        return f\"{self.first}{self.last}@email.com\"\n",
    "        \n",
    "\n",
    "class Developer(Employee):\n",
    "    raise_amount=1.10\n",
    "    def __init__(self,first,last,pay,prog_lang):\n",
    "        Employee.__init__(self,first,last,pay)\n",
    "        self.prog_lang=prog_lang\n",
    "    \n",
    "        \n",
    "class Manager(Employee):\n",
    "    def __init__(self,first,last,pay,employees=None):\n",
    "        super().__init__(first,last,pay)\n",
    "        if employees is None:\n",
    "            self.employees=[]\n",
    "        else:\n",
    "            self.employees=employees\n",
    "    def add_emp(self,emp):\n",
    "        if emp not in self.employees:\n",
    "                self.employees.append(emp)\n",
    "    def remove_emp(self,emp):\n",
    "        if emp in self.employees:\n",
    "            self.employees.remove(emp)\n",
    "    def show_emp(self):\n",
    "        for emp in self.employees:\n",
    "            print(f\"------>{emp.fullname()}\")\n",
    "                \n",
    "            \n",
    "        \n",
    "        \n",
    "    "
   ]
  },
  {
   "cell_type": "code",
   "execution_count": 13,
   "metadata": {},
   "outputs": [],
   "source": [
    "emp_1=Employee(\"John\",\"smith\",100000)"
   ]
  },
  {
   "cell_type": "code",
   "execution_count": 14,
   "metadata": {},
   "outputs": [
    {
     "data": {
      "text/plain": [
       "'John smith'"
      ]
     },
     "execution_count": 14,
     "metadata": {},
     "output_type": "execute_result"
    }
   ],
   "source": [
    "emp_1.fullname"
   ]
  },
  {
   "cell_type": "code",
   "execution_count": 15,
   "metadata": {},
   "outputs": [
    {
     "ename": "AttributeError",
     "evalue": "can't set attribute",
     "output_type": "error",
     "traceback": [
      "\u001b[1;31m---------------------------------------------------------------------------\u001b[0m",
      "\u001b[1;31mAttributeError\u001b[0m                            Traceback (most recent call last)",
      "\u001b[1;32m<ipython-input-15-efc6e822e588>\u001b[0m in \u001b[0;36m<module>\u001b[1;34m\u001b[0m\n\u001b[1;32m----> 1\u001b[1;33m \u001b[0memp_1\u001b[0m\u001b[1;33m.\u001b[0m\u001b[0mfullname\u001b[0m\u001b[1;33m=\u001b[0m\u001b[1;34m\"Jim Parson\"\u001b[0m\u001b[1;33m\u001b[0m\u001b[1;33m\u001b[0m\u001b[0m\n\u001b[0m",
      "\u001b[1;31mAttributeError\u001b[0m: can't set attribute"
     ]
    }
   ],
   "source": [
    "emp_1.fullname=\"Jim Parson\""
   ]
  },
  {
   "cell_type": "code",
   "execution_count": 16,
   "metadata": {},
   "outputs": [],
   "source": [
    "\n",
    "class Employee:\n",
    "    raise_amount=1.04\n",
    "    num_emp=0\n",
    "    def __init__(self,first,last,pay):\n",
    "        self.first=first\n",
    "        self.last=last\n",
    "        self.pay=pay\n",
    "        Employee.num_emp+=1\n",
    "    @property    \n",
    "    def fullname(self):\n",
    "        return(f\"{self.first} {self.last}\")\n",
    "    def apply_raise(self):\n",
    "        self.pay=int(self.pay)*self.raise_amount\n",
    "    @classmethod\n",
    "    def set_raise_amount(cls,amount):\n",
    "        cls.raise_amount=amount\n",
    "    @classmethod\n",
    "    def from_string(cls,st):\n",
    "        first,last,pay=emp_str_1.split(\"-\")\n",
    "        return cls(first,last,pay)\n",
    "    @staticmethod\n",
    "    def is_workday(day):\n",
    "        if(day.weekday()==5 or day.weekday()==6):\n",
    "            return False\n",
    "        return True\n",
    "    def __repr__(self):\n",
    "        return(f\"Employee({self.first},{self.last},{self.pay})\")\n",
    "    def __str__(self):\n",
    "        return f\"{self.first}-{self.last} with salary {self.pay} and email {self.email}\"\n",
    "    def __add__(self,other):\n",
    "        return self.pay+other.pay\n",
    "    def __len__(self):\n",
    "        return len(self.fullname())\n",
    "    @property\n",
    "    def email(self):\n",
    "        return f\"{self.first}{self.last}@email.com\"\n",
    "    @fullname.setter\n",
    "    def fullname(self,name):\n",
    "        first,last=name.split(\" \")\n",
    "        self.first=first\n",
    "        self.last=last\n",
    "\n",
    "class Developer(Employee):\n",
    "    raise_amount=1.10\n",
    "    def __init__(self,first,last,pay,prog_lang):\n",
    "        Employee.__init__(self,first,last,pay)\n",
    "        self.prog_lang=prog_lang\n",
    "    \n",
    "        \n",
    "class Manager(Employee):\n",
    "    def __init__(self,first,last,pay,employees=None):\n",
    "        super().__init__(first,last,pay)\n",
    "        if employees is None:\n",
    "            self.employees=[]\n",
    "        else:\n",
    "            self.employees=employees\n",
    "    def add_emp(self,emp):\n",
    "        if emp not in self.employees:\n",
    "                self.employees.append(emp)\n",
    "    def remove_emp(self,emp):\n",
    "        if emp in self.employees:\n",
    "            self.employees.remove(emp)\n",
    "    def show_emp(self):\n",
    "        for emp in self.employees:\n",
    "            print(f\"------>{emp.fullname()}\")\n",
    "                \n",
    "            \n",
    "        \n",
    "        \n",
    "    "
   ]
  },
  {
   "cell_type": "code",
   "execution_count": 17,
   "metadata": {},
   "outputs": [],
   "source": [
    "emp_1=Employee(\"John\",\"smith\",100000)"
   ]
  },
  {
   "cell_type": "code",
   "execution_count": 18,
   "metadata": {},
   "outputs": [],
   "source": [
    "emp_1.fullname=\"Jim Parson\""
   ]
  },
  {
   "cell_type": "code",
   "execution_count": 19,
   "metadata": {},
   "outputs": [
    {
     "data": {
      "text/plain": [
       "'JimParson@email.com'"
      ]
     },
     "execution_count": 19,
     "metadata": {},
     "output_type": "execute_result"
    }
   ],
   "source": [
    "emp_1.email"
   ]
  },
  {
   "cell_type": "code",
   "execution_count": 20,
   "metadata": {},
   "outputs": [
    {
     "data": {
      "text/plain": [
       "'Jim Parson'"
      ]
     },
     "execution_count": 20,
     "metadata": {},
     "output_type": "execute_result"
    }
   ],
   "source": [
    "emp_1.fullname"
   ]
  },
  {
   "cell_type": "code",
   "execution_count": 21,
   "metadata": {},
   "outputs": [],
   "source": [
    "\n",
    "class Employee:\n",
    "    raise_amount=1.04\n",
    "    num_emp=0\n",
    "    def __init__(self,first,last,pay):\n",
    "        self.first=first\n",
    "        self.last=last\n",
    "        self.pay=pay\n",
    "        Employee.num_emp+=1\n",
    "    @property    \n",
    "    def fullname(self):\n",
    "        return(f\"{self.first} {self.last}\")\n",
    "    def apply_raise(self):\n",
    "        self.pay=int(self.pay)*self.raise_amount\n",
    "    @classmethod\n",
    "    def set_raise_amount(cls,amount):\n",
    "        cls.raise_amount=amount\n",
    "    @classmethod\n",
    "    def from_string(cls,st):\n",
    "        first,last,pay=emp_str_1.split(\"-\")\n",
    "        return cls(first,last,pay)\n",
    "    @staticmethod\n",
    "    def is_workday(day):\n",
    "        if(day.weekday()==5 or day.weekday()==6):\n",
    "            return False\n",
    "        return True\n",
    "    def __repr__(self):\n",
    "        return(f\"Employee({self.first},{self.last},{self.pay})\")\n",
    "    def __str__(self):\n",
    "        return f\"{self.first}-{self.last} with salary {self.pay} and email {self.email}\"\n",
    "    def __add__(self,other):\n",
    "        return self.pay+other.pay\n",
    "    def __len__(self):\n",
    "        return len(self.fullname())\n",
    "    @property\n",
    "    def email(self):\n",
    "        return f\"{self.first}{self.last}@email.com\"\n",
    "    @fullname.setter\n",
    "    def fullname(self,name):\n",
    "        first,last=name.split(\" \")\n",
    "        self.first=first\n",
    "        self.last=last\n",
    "    @fullname.deleter\n",
    "    def fullname(self):\n",
    "        print(\"Delete Name\")\n",
    "        self.first=None\n",
    "        self.last=None\n",
    "\n",
    "class Developer(Employee):\n",
    "    raise_amount=1.10\n",
    "    def __init__(self,first,last,pay,prog_lang):\n",
    "        Employee.__init__(self,first,last,pay)\n",
    "        self.prog_lang=prog_lang\n",
    "    \n",
    "        \n",
    "class Manager(Employee):\n",
    "    def __init__(self,first,last,pay,employees=None):\n",
    "        super().__init__(first,last,pay)\n",
    "        if employees is None:\n",
    "            self.employees=[]\n",
    "        else:\n",
    "            self.employees=employees\n",
    "    def add_emp(self,emp):\n",
    "        if emp not in self.employees:\n",
    "                self.employees.append(emp)\n",
    "    def remove_emp(self,emp):\n",
    "        if emp in self.employees:\n",
    "            self.employees.remove(emp)\n",
    "    def show_emp(self):\n",
    "        for emp in self.employees:\n",
    "            print(f\"------>{emp.fullname()}\")\n",
    "                \n",
    "            \n",
    "        \n",
    "        \n",
    "    "
   ]
  },
  {
   "cell_type": "code",
   "execution_count": 22,
   "metadata": {},
   "outputs": [],
   "source": [
    "emp_1=Employee(\"John\",\"smith\",100000)"
   ]
  },
  {
   "cell_type": "code",
   "execution_count": 23,
   "metadata": {},
   "outputs": [],
   "source": [
    "emp_1.fullname=\"Jim Parson\""
   ]
  },
  {
   "cell_type": "code",
   "execution_count": 24,
   "metadata": {},
   "outputs": [
    {
     "data": {
      "text/plain": [
       "'Jim Parson'"
      ]
     },
     "execution_count": 24,
     "metadata": {},
     "output_type": "execute_result"
    }
   ],
   "source": [
    "emp_1.fullname"
   ]
  },
  {
   "cell_type": "code",
   "execution_count": 25,
   "metadata": {},
   "outputs": [
    {
     "data": {
      "text/plain": [
       "'JimParson@email.com'"
      ]
     },
     "execution_count": 25,
     "metadata": {},
     "output_type": "execute_result"
    }
   ],
   "source": [
    "emp_1.email"
   ]
  },
  {
   "cell_type": "code",
   "execution_count": 26,
   "metadata": {},
   "outputs": [
    {
     "name": "stdout",
     "output_type": "stream",
     "text": [
      "Delete Name\n"
     ]
    }
   ],
   "source": [
    "del(emp_1.fullname)"
   ]
  },
  {
   "cell_type": "code",
   "execution_count": 27,
   "metadata": {},
   "outputs": [
    {
     "name": "stdout",
     "output_type": "stream",
     "text": [
      "None\n"
     ]
    }
   ],
   "source": [
    "print(emp_1.first)"
   ]
  },
  {
   "cell_type": "code",
   "execution_count": 28,
   "metadata": {},
   "outputs": [
    {
     "data": {
      "text/plain": [
       "Employee(None,None,100000)"
      ]
     },
     "execution_count": 28,
     "metadata": {},
     "output_type": "execute_result"
    }
   ],
   "source": [
    "emp_1"
   ]
  },
  {
   "cell_type": "code",
   "execution_count": 29,
   "metadata": {},
   "outputs": [],
   "source": [
    "del(emp_1)"
   ]
  },
  {
   "cell_type": "code",
   "execution_count": 30,
   "metadata": {},
   "outputs": [
    {
     "ename": "NameError",
     "evalue": "name 'emp_1' is not defined",
     "output_type": "error",
     "traceback": [
      "\u001b[1;31m---------------------------------------------------------------------------\u001b[0m",
      "\u001b[1;31mNameError\u001b[0m                                 Traceback (most recent call last)",
      "\u001b[1;32m<ipython-input-30-1b42579fdcba>\u001b[0m in \u001b[0;36m<module>\u001b[1;34m\u001b[0m\n\u001b[1;32m----> 1\u001b[1;33m \u001b[0memp_1\u001b[0m\u001b[1;33m\u001b[0m\u001b[1;33m\u001b[0m\u001b[0m\n\u001b[0m",
      "\u001b[1;31mNameError\u001b[0m: name 'emp_1' is not defined"
     ]
    }
   ],
   "source": [
    "emp_1"
   ]
  },
  {
   "cell_type": "code",
   "execution_count": 31,
   "metadata": {},
   "outputs": [],
   "source": [
    "\n",
    "class Employee:\n",
    "    raise_amount=1.04\n",
    "    num_emp=0\n",
    "    def __init__(self,first,last,pay):\n",
    "        self.first=first\n",
    "        self.last=last\n",
    "        self.pay=pay\n",
    "        Employee.num_emp+=1\n",
    "    @property    \n",
    "    def fullname(self):\n",
    "        return(f\"{self.first} {self.last}\")\n",
    "    def apply_raise(self):\n",
    "        self.pay=int(self.pay)*self.raise_amount\n",
    "    @classmethod\n",
    "    def set_raise_amount(cls,amount):\n",
    "        cls.raise_amount=amount\n",
    "    @classmethod\n",
    "    def from_string(cls,st):\n",
    "        first,last,pay=emp_str_1.split(\"-\")\n",
    "        return cls(first,last,pay)\n",
    "    @staticmethod\n",
    "    def is_workday(day):\n",
    "        if(day.weekday()==5 or day.weekday()==6):\n",
    "            return False\n",
    "        return True\n",
    "    def __repr__(self):\n",
    "        return(f\"Employee({self.first},{self.last},{self.pay})\")\n",
    "    def __str__(self):\n",
    "        return f\"{self.first}-{self.last} with salary {self.pay} and email {self.email}\"\n",
    "    def __add__(self,other):\n",
    "        return self.pay+other.pay\n",
    "    def __len__(self):\n",
    "        return len(self.fullname())\n",
    "    @property\n",
    "    def email(self):\n",
    "        return f\"{self.first}{self.last}@email.com\"\n",
    "    @fullname.setter\n",
    "    def fullname(self,name):\n",
    "        first,last=name.split(\" \")\n",
    "        self.first=first\n",
    "        self.last=last\n",
    "    @fullname.deleter\n",
    "    def fullname(self):\n",
    "        print(\"Delete Name\")\n",
    "        self.first=None\n",
    "        self.last=None\n",
    "    def __del__(self):\n",
    "        print(f\"Deleting {self} Employee\")\n",
    "\n",
    "class Developer(Employee):\n",
    "    raise_amount=1.10\n",
    "    def __init__(self,first,last,pay,prog_lang):\n",
    "        Employee.__init__(self,first,last,pay)\n",
    "        self.prog_lang=prog_lang\n",
    "    \n",
    "        \n",
    "class Manager(Employee):\n",
    "    def __init__(self,first,last,pay,employees=None):\n",
    "        super().__init__(first,last,pay)\n",
    "        if employees is None:\n",
    "            self.employees=[]\n",
    "        else:\n",
    "            self.employees=employees\n",
    "    def add_emp(self,emp):\n",
    "        if emp not in self.employees:\n",
    "                self.employees.append(emp)\n",
    "    def remove_emp(self,emp):\n",
    "        if emp in self.employees:\n",
    "            self.employees.remove(emp)\n",
    "    def show_emp(self):\n",
    "        for emp in self.employees:\n",
    "            print(f\"------>{emp.fullname()}\")\n",
    "                \n",
    "            \n",
    "        \n",
    "        \n",
    "    "
   ]
  },
  {
   "cell_type": "code",
   "execution_count": 32,
   "metadata": {},
   "outputs": [],
   "source": [
    "emp_1=Employee(\"John\",\"smith\",100000)"
   ]
  },
  {
   "cell_type": "code",
   "execution_count": 33,
   "metadata": {},
   "outputs": [
    {
     "name": "stdout",
     "output_type": "stream",
     "text": [
      "Deleting John-smith with salary 100000 and email Johnsmith@email.com Employee\n"
     ]
    }
   ],
   "source": [
    "del(emp_1)"
   ]
  },
  {
   "cell_type": "code",
   "execution_count": 34,
   "metadata": {},
   "outputs": [
    {
     "ename": "NameError",
     "evalue": "name 'emp_1' is not defined",
     "output_type": "error",
     "traceback": [
      "\u001b[1;31m---------------------------------------------------------------------------\u001b[0m",
      "\u001b[1;31mNameError\u001b[0m                                 Traceback (most recent call last)",
      "\u001b[1;32m<ipython-input-34-bcad23a541fb>\u001b[0m in \u001b[0;36m<module>\u001b[1;34m\u001b[0m\n\u001b[1;32m----> 1\u001b[1;33m \u001b[0memp_1\u001b[0m\u001b[1;33m.\u001b[0m\u001b[0mself\u001b[0m\u001b[1;33m\u001b[0m\u001b[1;33m\u001b[0m\u001b[0m\n\u001b[0m",
      "\u001b[1;31mNameError\u001b[0m: name 'emp_1' is not defined"
     ]
    }
   ],
   "source": [
    "emp_1.self"
   ]
  },
  {
   "cell_type": "code",
   "execution_count": null,
   "metadata": {},
   "outputs": [],
   "source": []
  }
 ],
 "metadata": {
  "kernelspec": {
   "display_name": "Python 3",
   "language": "python",
   "name": "python3"
  },
  "language_info": {
   "codemirror_mode": {
    "name": "ipython",
    "version": 3
   },
   "file_extension": ".py",
   "mimetype": "text/x-python",
   "name": "python",
   "nbconvert_exporter": "python",
   "pygments_lexer": "ipython3",
   "version": "3.8.5"
  }
 },
 "nbformat": 4,
 "nbformat_minor": 4
}
